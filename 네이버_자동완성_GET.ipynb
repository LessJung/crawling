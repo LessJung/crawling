{
 "cells": [
  {
   "cell_type": "markdown",
   "metadata": {},
   "source": [
    "## 필요 라이브러리 설치"
   ]
  },
  {
   "cell_type": "code",
   "execution_count": null,
   "metadata": {},
   "outputs": [],
   "source": [
    "pip install requests"
   ]
  },
  {
   "cell_type": "code",
   "execution_count": 51,
   "metadata": {},
   "outputs": [
    {
     "name": "stderr",
     "output_type": "stream",
     "text": [
      "2096.17s - pydevd: Sending message related to process being replaced timed-out after 5 seconds\n"
     ]
    },
    {
     "name": "stdout",
     "output_type": "stream",
     "text": [
      "Collecting openpyxl\n",
      "  Using cached openpyxl-3.1.5-py2.py3-none-any.whl.metadata (2.5 kB)\n",
      "Collecting et-xmlfile (from openpyxl)\n",
      "  Using cached et_xmlfile-2.0.0-py3-none-any.whl.metadata (2.7 kB)\n",
      "Using cached openpyxl-3.1.5-py2.py3-none-any.whl (250 kB)\n",
      "Using cached et_xmlfile-2.0.0-py3-none-any.whl (18 kB)\n",
      "Installing collected packages: et-xmlfile, openpyxl\n",
      "Successfully installed et-xmlfile-2.0.0 openpyxl-3.1.5\n",
      "\n",
      "\u001b[1m[\u001b[0m\u001b[34;49mnotice\u001b[0m\u001b[1;39;49m]\u001b[0m\u001b[39;49m A new release of pip is available: \u001b[0m\u001b[31;49m24.3.1\u001b[0m\u001b[39;49m -> \u001b[0m\u001b[32;49m25.0.1\u001b[0m\n",
      "\u001b[1m[\u001b[0m\u001b[34;49mnotice\u001b[0m\u001b[1;39;49m]\u001b[0m\u001b[39;49m To update, run: \u001b[0m\u001b[32;49mpip3 install --upgrade pip\u001b[0m\n",
      "Note: you may need to restart the kernel to use updated packages.\n"
     ]
    }
   ],
   "source": [
    "pip install openpyxl"
   ]
  },
  {
   "cell_type": "markdown",
   "metadata": {},
   "source": [
    "## '빅데이터분석기사'와 관련 있는 자동 검색어 추출하기"
   ]
  },
  {
   "cell_type": "code",
   "execution_count": null,
   "metadata": {},
   "outputs": [],
   "source": [
    "# '빅데이터분석기사'와 관련 있는 자동 검색어 추출하기\n",
    "\n",
    "# 크롤링 할 페이지에 '요청' 보내기\n",
    "import requests\n",
    "페이지 = requests.get('https://ac.search.naver.com/nx/ac?q=%EB%B9%85%EB%8D%B0%EC%9D%B4%ED%84%B0%EB%B6%84%EC%84%9D%EA%B8%B0%EC%82%AC&con=0&frm=nv&ans=2&r_format=json&r_enc=UTF-8&r_unicode=0&t_koreng=1&run=2&rev=4&q_enc=UTF-8&st=100')\n",
    "페이지  # 응답코드 확인\n",
    "\n",
    "# 응답 데이터 확인\n",
    "페이지.text \n",
    "\n",
    "# 제이슨 to 딕셔너리\n",
    "데이터 = 페이지.json() \n",
    "\n",
    "데이터모음 = 데이터['items'][0]\n",
    "\n",
    "# 데이터모음에 리스트 하나 하나 꺼내기\n",
    "\n",
    "데이터_담을곳 = []\n",
    "for 데이터 in 데이터모음:\n",
    "    # print(데이터)\n",
    "    # print(데이터[0])\n",
    "    데이터_담을곳.append(데이터[0])\n",
    "\n",
    "데이터_담을곳\n",
    "\n",
    "import pandas as pd\n",
    "\n",
    "\n",
    "df = pd.DataFrame({'키워드': 데이터_담을곳})\n",
    "\n",
    "df"
   ]
  },
  {
   "cell_type": "markdown",
   "metadata": {},
   "source": [
    "## 입력 키워드의 ㄱ부터 ㅎ까지의 연관검색어 추출하기"
   ]
  },
  {
   "cell_type": "code",
   "execution_count": 53,
   "metadata": {},
   "outputs": [
    {
     "name": "stdout",
     "output_type": "stream",
     "text": [
      "총 79개의 연관 검색어를 찾았습니다.\n"
     ]
    }
   ],
   "source": [
    "# \b입력 키워드의 ㄱ부터 ㅎ까지의 연관검색어 추출하기\n",
    "\n",
    "import requests\n",
    "import pandas as pd \n",
    "\n",
    "자음모음 = [' ㄱ', ' ㄴ', ' ㄷ', ' ㄹ', ' ㅁ', ' ㅂ', ' ㅅ', ' ㅇ', ' ㅈ', ' ㅊ', ' ㅋ', ' ㅌ', ' ㅍ', ' ㅎ']\n",
    "기본키워드 = input(\"검색할 키워드를 입력하세요: \")\n",
    "\n",
    "키워드모음 = []\n",
    "# 각 자음을 기본 키워드에 붙여서 검색\n",
    "for 자음 in 자음모음:\n",
    "    검색키워드 = 기본키워드 + 자음  # 키워드에 자음 추가\n",
    "    \n",
    "    # print(f\"검색 중: {검색키워드}\")\n",
    "    \n",
    "    # 네이버 연관검색어 수집\n",
    "    페이지 = requests.get(f'https://ac.search.naver.com/nx/ac?q={검색키워드}&con=0&frm=nv&ans=2&r_format=json&r_enc=UTF-8&r_unicode=0&t_koreng=1&run=2&rev=4&q_enc=UTF-8&st=100')\n",
    "    \n",
    "    # 응답 데이터 처리\n",
    "    데이터 = 페이지.json()\n",
    "    \n",
    "    # 자동완성 결과가 있는 경우에만 처리\n",
    "    if 데이터['items'] and 데이터['items'][0]:\n",
    "        데이터모음 = 데이터['items'][0]\n",
    "        # print(데이터모음)\n",
    "        for 데이터 in 데이터모음:\n",
    "            키워드모음.append(데이터[0])\n",
    "    else:\n",
    "        print(f\"'{검색키워드}'에 대한 자동완성 결과가 없습니다.\")\n",
    "\n",
    "print(f\"총 {len(키워드모음)}개의 연관 검색어를 찾았습니다.\")\n",
    "\n",
    "# 데이터프레임으로 변환\n",
    "df = pd.DataFrame({'키워드': 키워드모음})\n",
    "df\n",
    "\n",
    "# 엑셀 or CSV 저장\n",
    "# df.to_excel('키워드수집_결과.xlsx', index = False)\n",
    "df.to_csv('키워드수집_결과.csv', index = False)"
   ]
  }
 ],
 "metadata": {
  "kernelspec": {
   "display_name": "Python 3",
   "language": "python",
   "name": "python3"
  },
  "language_info": {
   "codemirror_mode": {
    "name": "ipython",
    "version": 3
   },
   "file_extension": ".py",
   "mimetype": "text/x-python",
   "name": "python",
   "nbconvert_exporter": "python",
   "pygments_lexer": "ipython3",
   "version": "3.13.2"
  }
 },
 "nbformat": 4,
 "nbformat_minor": 2
}
